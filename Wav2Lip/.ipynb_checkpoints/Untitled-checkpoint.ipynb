{
 "cells": [
  {
   "cell_type": "code",
   "execution_count": null,
   "id": "cardiac-biotechnology",
   "metadata": {},
   "outputs": [],
   "source": [
    "from os import listdir, path\n",
    "import numpy as np\n",
    "import scipy, cv2, os, sys, argparse, audio\n",
    "import json, subprocess, random, string\n",
    "from tqdm import tqdm\n",
    "from glob import glob\n",
    "import torch, face_detection\n",
    "from models import Wav2Lip\n",
    "import platform\n",
    "import time\n",
    "import sys\n",
    "\n",
    "sys.argv = sys.argv[:1]\n",
    "sys.argv += ['--checkpoint_path','checkpoints/wav2lip_gan.pth','--face','data/v.mp4','--audio','data/input_audio.mp3']\n",
    "\n",
    "parser = argparse.ArgumentParser(description='Inference code to lip-sync videos in the wild using Wav2Lip models')\n",
    "\n",
    "parser.add_argument('--checkpoint_path', type=str, \n",
    "                    help='Name of saved checkpoint to load weights from', required=True)\n",
    "\n",
    "parser.add_argument('--face', type=str, \n",
    "                    help='Filepath of video/image that contains faces to use', required=True)\n",
    "parser.add_argument('--audio', type=str, \n",
    "                    help='Filepath of video/audio file to use as raw audio source', required=True)\n",
    "parser.add_argument('--outfile', type=str, help='Video path to save result. See default for an e.g.', \n",
    "                                default='results/result_voice.mp4')\n",
    "\n",
    "parser.add_argument('--static', type=bool, \n",
    "                    help='If True, then use only first video frame for inference', default=False)\n",
    "parser.add_argument('--fps', type=float, help='Can be specified only if input is a static image (default: 25)', \n",
    "                    default=25., required=False)\n",
    "\n",
    "parser.add_argument('--pads', nargs='+', type=int, default=[0, 10, 0, 0], \n",
    "                    help='Padding (top, bottom, left, right). Please adjust to include chin at least')\n",
    "\n",
    "parser.add_argument('--face_det_batch_size', type=int, \n",
    "                    help='Batch size for face detection', default=8)\n",
    "parser.add_argument('--wav2lip_batch_size', type=int, help='Batch size for Wav2Lip model(s)', default=512)\n",
    "\n",
    "parser.add_argument('--resize_factor', default=1, type=int, \n",
    "                    help='Reduce the resolution by this factor. Sometimes, best results are obtained at 480p or 720p')\n",
    "\n",
    "parser.add_argument('--crop', nargs='+', type=int, default=[0, -1, 0, -1], \n",
    "                    help='Crop video to a smaller region (top, bottom, left, right). Applied after resize_factor and rotate arg. ' \n",
    "                    'Useful if multiple face present. -1 implies the value will be auto-inferred based on height, width')\n",
    "\n",
    "parser.add_argument('--box', nargs='+', type=int, default=[-1, -1, -1, -1], \n",
    "                    help='Specify a constant bounding box for the face. Use only as a last resort if the face is not detected.'\n",
    "                    'Also, might work only if the face is not moving around much. Syntax: (top, bottom, left, right).')\n",
    "\n",
    "parser.add_argument('--rotate', default=False, action='store_true',\n",
    "                    help='Sometimes videos taken from a phone can be flipped 90deg. If true, will flip video right by 90deg.'\n",
    "                    'Use if you get a flipped result, despite feeding a normal looking video')\n",
    "\n",
    "parser.add_argument('--nosmooth', default=False, action='store_true',\n",
    "                    help='Prevent smoothing face detections over a short temporal window')\n",
    "\n",
    "args = parser.parse_args()\n",
    "args.img_size = 96\n",
    "\n",
    "if os.path.isfile(args.face) and args.face.split('.')[1] in ['jpg', 'png', 'jpeg']:\n",
    "    args.static = True\n",
    "\n",
    "def get_smoothened_boxes(boxes, T):\n",
    "    for i in range(len(boxes)):\n",
    "        if i + T > len(boxes):\n",
    "            window = boxes[len(boxes) - T:]\n",
    "        else:\n",
    "            window = boxes[i : i + T]\n",
    "        boxes[i] = np.mean(window, axis=0)\n",
    "    return boxes\n",
    "\n",
    "def face_detect(images):\n",
    "    detector = face_detection.FaceAlignment(face_detection.LandmarksType._2D, \n",
    "                                            flip_input=False, device=device)\n",
    "\n",
    "    batch_size = args.face_det_batch_size\n",
    "    \n",
    "    while 1:\n",
    "        predictions = []\n",
    "        try:\n",
    "            for i in tqdm(range(0, len(images), batch_size)):\n",
    "                predictions.extend(detector.get_detections_for_batch(np.array(images[i:i + batch_size])))\n",
    "        except RuntimeError:\n",
    "            if batch_size == 1: \n",
    "                raise RuntimeError('Image too big to run face detection on GPU. Please use the --resize_factor argument')\n",
    "            batch_size //= 2\n",
    "            print('Recovering from OOM error; New batch size: {}'.format(batch_size))\n",
    "            continue\n",
    "        break\n",
    "\n",
    "    results = []\n",
    "    pady1, pady2, padx1, padx2 = args.pads\n",
    "    for rect, image in zip(predictions, images):\n",
    "        if rect is None:\n",
    "            cv2.imwrite('temp/faulty_frame.jpg', image) # check this frame where the face was not detected.\n",
    "            raise ValueError('Face not detected! Ensure the video contains a face in all the frames.')\n",
    "\n",
    "        y1 = max(0, rect[1] - pady1)\n",
    "        y2 = min(image.shape[0], rect[3] + pady2)\n",
    "        x1 = max(0, rect[0] - padx1)\n",
    "        x2 = min(image.shape[1], rect[2] + padx2)\n",
    "        \n",
    "        results.append([x1, y1, x2, y2])\n",
    "\n",
    "    boxes = np.array(results)\n",
    "    if not args.nosmooth: boxes = get_smoothened_boxes(boxes, T=5)\n",
    "    results = [[image[y1: y2, x1:x2], (y1, y2, x1, x2)] for image, (x1, y1, x2, y2) in zip(images, boxes)]\n",
    "\n",
    "    del detector\n",
    "    return results\n",
    "\n",
    "def datagen(frames, mels, face_results, batch_size = 128):\n",
    "    img_batch, mel_batch, frame_batch, coords_batch = [], [], [], []\n",
    "    face_det_results = face_results\n",
    "    \n",
    "    for i, m in enumerate(mels):\n",
    "        \n",
    "        start = time.time()\n",
    "        idx = 0 if args.static else i%len(frames)\n",
    "        frame_to_save = frames[idx].copy()\n",
    "        face, coords = face_det_results[idx].copy()\n",
    "        \n",
    "        face = cv2.resize(face, (args.img_size, args.img_size))\n",
    "        \n",
    "        img_batch.append(face)\n",
    "        mel_batch.append(m)\n",
    "        frame_batch.append(frame_to_save)\n",
    "        coords_batch.append(coords)\n",
    "        print(\"cv: \", time.time() - start)\n",
    "        \n",
    "        if len(img_batch) >= batch_size:\n",
    "            img_batch, mel_batch = np.asarray(img_batch), np.asarray(mel_batch)\n",
    "\n",
    "            img_masked = img_batch.copy()\n",
    "            img_masked[:, args.img_size//2:] = 0\n",
    "\n",
    "            img_batch = np.concatenate((img_masked, img_batch), axis=3) / 255.\n",
    "            mel_batch = np.reshape(mel_batch, [len(mel_batch), mel_batch.shape[1], mel_batch.shape[2], 1])\n",
    "\n",
    "            print(\"Merging: \", time.time() - start)\n",
    "            yield img_batch, mel_batch, frame_batch, coords_batch\n",
    "            img_batch, mel_batch, frame_batch, coords_batch = [], [], [], []\n",
    "\n",
    "    if len(img_batch) > 0:\n",
    "        img_batch, mel_batch = np.asarray(img_batch), np.asarray(mel_batch)\n",
    "\n",
    "        img_masked = img_batch.copy()\n",
    "        img_masked[:, args.img_size//2:] = 0\n",
    "\n",
    "        img_batch = np.concatenate((img_masked, img_batch), axis=3) / 255.\n",
    "        mel_batch = np.reshape(mel_batch, [len(mel_batch), mel_batch.shape[1], mel_batch.shape[2], 1])\n",
    "\n",
    "        yield img_batch, mel_batch, frame_batch, coords_batch\n",
    "    \n",
    "    print(\"total: \", time.time() - start)\n",
    "    \n",
    "def datagen_parallel(data_chunk):\n",
    "    \n",
    "    start = time.time()\n",
    "    frames, mels, face_results = data_chunk\n",
    "    \n",
    "    img_batch, mel_batch, frame_batch, coords_batch = [], [], [], []\n",
    "    face_det_results = face_results\n",
    "    \n",
    "    for i, m in enumerate(mels):\n",
    "        idx = 0 if args.static else i%len(frames)\n",
    "        frame_to_save = frames[idx].copy()\n",
    "        face, coords = face_det_results[idx].copy()\n",
    "\n",
    "        face = cv2.resize(face, (args.img_size, args.img_size))\n",
    "            \n",
    "        img_batch.append(face)\n",
    "        mel_batch.append(m)\n",
    "        frame_batch.append(frame_to_save)\n",
    "        coords_batch.append(coords)\n",
    "\n",
    "    img_batch, mel_batch = np.asarray(img_batch), np.asarray(mel_batch)\n",
    "    img_masked = img_batch.copy()\n",
    "    img_masked[:, args.img_size//2:] = 0\n",
    "    img_batch = np.concatenate((img_masked, img_batch), axis=3) / 255.\n",
    "    mel_batch = np.reshape(mel_batch, [len(mel_batch), mel_batch.shape[1], mel_batch.shape[2], 1])\n",
    "\n",
    "    print(\"Thread: \", time.time() - start)\n",
    "    return img_batch, mel_batch, frame_batch, coords_batch\n",
    "\n",
    "mel_step_size = 16\n",
    "device = 'cuda' if torch.cuda.is_available() else 'cpu'\n",
    "print('Using {} for inference.'.format(device))\n",
    "\n",
    "def _load(checkpoint_path):\n",
    "    if device == 'cuda':\n",
    "        checkpoint = torch.load(checkpoint_path)\n",
    "    else:\n",
    "        checkpoint = torch.load(checkpoint_path,\n",
    "                                map_location=lambda storage, loc: storage)\n",
    "    return checkpoint\n",
    "\n",
    "def load_model(path):\n",
    "    model = Wav2Lip()\n",
    "    print(\"Load checkpoint from: {}\".format(path))\n",
    "    checkpoint = _load(path)\n",
    "    s = checkpoint[\"state_dict\"]\n",
    "    new_s = {}\n",
    "    for k, v in s.items():\n",
    "        new_s[k.replace('module.', '')] = v\n",
    "    model.load_state_dict(new_s)\n",
    "\n",
    "    model = model.to(device)\n",
    "    return model.eval()"
   ]
  },
  {
   "cell_type": "code",
   "execution_count": null,
   "id": "swiss-graham",
   "metadata": {},
   "outputs": [],
   "source": [
    "if not os.path.isfile(args.face):\n",
    "    raise ValueError('--face argument must be a valid path to video/image file')\n",
    "\n",
    "elif args.face.split('.')[1] in ['jpg', 'png', 'jpeg']:\n",
    "    full_frames = [cv2.imread(args.face)]\n",
    "    fps = args.fps\n",
    "\n",
    "else:\n",
    "    video_stream = cv2.VideoCapture(args.face)\n",
    "    fps = video_stream.get(cv2.CAP_PROP_FPS)\n",
    "\n",
    "    print('Reading video frames...')\n",
    "\n",
    "    full_frames = []\n",
    "    while 1:\n",
    "        still_reading, frame = video_stream.read()\n",
    "        if not still_reading:\n",
    "            video_stream.release()\n",
    "            break\n",
    "        if args.resize_factor > 1:\n",
    "            frame = cv2.resize(frame, (frame.shape[1]//args.resize_factor, frame.shape[0]//args.resize_factor))\n",
    "\n",
    "        if args.rotate:\n",
    "            frame = cv2.rotate(frame, cv2.cv2.ROTATE_90_CLOCKWISE)\n",
    "\n",
    "        y1, y2, x1, x2 = args.crop\n",
    "        if x2 == -1: x2 = frame.shape[1]\n",
    "        if y2 == -1: y2 = frame.shape[0]\n",
    "\n",
    "        frame = frame[y1:y2, x1:x2]\n",
    "\n",
    "        full_frames.append(frame)\n",
    "\n",
    "print (\"Number of frames available for inference: \"+str(len(full_frames)))\n",
    "\n",
    "if args.box[0] == -1:\n",
    "    if not args.static:\n",
    "        face_det_results = face_detect(full_frames.copy()) # BGR2RGB for CNN face detection\n",
    "    else:\n",
    "        face_det_results = face_detect([full_frames.copy()[0]])\n",
    "else:\n",
    "    y1, y2, x1, x2 = args.box\n",
    "    face_det_results = [[f[y1: y2, x1:x2], (y1, y2, x1, x2)] for f in frames]"
   ]
  },
  {
   "cell_type": "code",
   "execution_count": null,
   "id": "brilliant-bulgaria",
   "metadata": {},
   "outputs": [],
   "source": [
    "args.checkpoint_path = 'checkpoints/wav2lip_gan.pth'\n",
    "model = load_model(args.checkpoint_path)"
   ]
  },
  {
   "cell_type": "code",
   "execution_count": null,
   "id": "legendary-antenna",
   "metadata": {},
   "outputs": [],
   "source": [
    "#args.audio = 'data/input_audio.mp3'\n",
    "args.audio = 'data/LJ0017-0617.wav'"
   ]
  },
  {
   "cell_type": "code",
   "execution_count": null,
   "id": "demographic-basement",
   "metadata": {},
   "outputs": [],
   "source": [
    "start = time.time()\n",
    "# if not args.audio.endswith('.wav'):\n",
    "print('Extracting raw audio...')\n",
    "command = 'ffmpeg -y -i {} -strict -2 {}'.format(args.audio, 'temp/temp.wav')\n",
    "subprocess.call(command, shell=True)\n",
    "print(time.time() - start)\n",
    "start = time.time()\n",
    "args.audio = 'temp/temp.wav'\n",
    "wav = audio.load_wav(args.audio, 16000)\n",
    "mel = audio.melspectrogram(wav)\n",
    "print(time.time() - start)\n",
    "start = time.time()\n",
    "\n",
    "mel_chunks = []\n",
    "mel_idx_multiplier = 80./fps \n",
    "i = 0\n",
    "while 1:\n",
    "    start_idx = int(i * mel_idx_multiplier)\n",
    "    if start_idx + mel_step_size > len(mel[0]):\n",
    "        mel_chunks.append(mel[:, len(mel[0]) - mel_step_size:])\n",
    "        break\n",
    "    mel_chunks.append(mel[:, start_idx : start_idx + mel_step_size])\n",
    "    i += 1\n",
    "\n",
    "print(time.time() - start)\n",
    "print(\"Length of mel chunks: {}\".format(len(mel_chunks)))\n",
    "\n",
    "start = time.time()\n",
    "select_frames = full_frames[:len(mel_chunks)].copy()\n",
    "select_face_results = face_det_results[:len(mel_chunks)].copy()\n",
    "print(time.time() - start)"
   ]
  },
  {
   "cell_type": "code",
   "execution_count": null,
   "id": "discrete-fantasy",
   "metadata": {},
   "outputs": [],
   "source": [
    "len(select_frames[0])"
   ]
  },
  {
   "cell_type": "code",
   "execution_count": null,
   "id": "radio-marketing",
   "metadata": {},
   "outputs": [],
   "source": [
    "if start_index + len(mel_chunks) > full_frames:\n",
    "    loop_index = start_index + len(mel_chunks) - len(full_frames)\n",
    "    select_frames += \n",
    "    select_face_results += "
   ]
  },
  {
   "cell_type": "code",
   "execution_count": null,
   "id": "lovely-gallery",
   "metadata": {},
   "outputs": [],
   "source": [
    "start = time.time()\n",
    "\n",
    "gen = list(datagen(select_frames, mel_chunks, select_face_results, 16))\n",
    "\n",
    "print(\"Gen:\", time.time() - start)\n",
    "\n",
    "final_frames = []\n",
    "\n",
    "start = time.time()\n",
    "for i, (img_batch, mel_batch, frames, coords) in enumerate(gen):\n",
    "    \n",
    "    img_batch = torch.FloatTensor(np.transpose(img_batch, (0, 3, 1, 2))).to(device)\n",
    "    mel_batch = torch.FloatTensor(np.transpose(mel_batch, (0, 3, 1, 2))).to(device)\n",
    "    \n",
    "    with torch.no_grad():\n",
    "        pred = model(mel_batch, img_batch)\n",
    "    \n",
    "    pred = pred.cpu().numpy().transpose(0, 2, 3, 1) * 255.\n",
    "\n",
    "    print(time.time() - start)\n",
    "    \n",
    "    for p, f, c in zip(pred, frames, coords):\n",
    "        y1, y2, x1, x2 = c\n",
    "        p = cv2.resize(p.astype(np.uint8), (x2 - x1, y2 - y1))\n",
    "        f[y1:y2, x1:x2] = p\n",
    "        final_frames.append(f)\n",
    "    print(time.time() - start)"
   ]
  },
  {
   "cell_type": "code",
   "execution_count": null,
   "id": "equivalent-conviction",
   "metadata": {},
   "outputs": [],
   "source": [
    "frame_h, frame_w = select_frames[0].shape[:-1]\n",
    "out = cv2.VideoWriter('temp/result.avi', cv2.VideoWriter_fourcc(*'DIVX'), fps, (frame_w, frame_h))\n",
    "for f in final_frames:\n",
    "    out.write(f)\n",
    "out.release()\n",
    "command = 'ffmpeg -y -i {} -i {} -strict -2 -q:v 1 {}'.format(args.audio, 'temp/result.avi', args.outfile)\n",
    "subprocess.call(command, shell=platform.system() != 'Windows')\n",
    "print(\"combine video & audio: \", time.time() - start)\n",
    "print(time.time() - start)"
   ]
  },
  {
   "cell_type": "code",
   "execution_count": null,
   "id": "public-covering",
   "metadata": {},
   "outputs": [],
   "source": [
    "import requests, time\n",
    "start = time.time()\n",
    "response = requests.post('http://54.179.106.170:5800/test', json = {\"context\": \"haha\\nhaha\"})\n",
    "print(time.time() - start)"
   ]
  },
  {
   "cell_type": "code",
   "execution_count": null,
   "id": "meaningful-islam",
   "metadata": {},
   "outputs": [],
   "source": [
    "response.content"
   ]
  },
  {
   "cell_type": "code",
   "execution_count": null,
   "id": "atmospheric-worcester",
   "metadata": {},
   "outputs": [],
   "source": [
    "from flask import Response\n",
    "from __future__ import absolute_import, division, print_function\n",
    "from flask import Flask\n",
    "from flask import jsonify\n",
    "from flask import request\n",
    "from flask import send_from_directory\n",
    "\n",
    "from flask_cors import CORS, cross_origin\n",
    "from flask import Response\n",
    "\n",
    "app = Flask(__name__)\n",
    "\n",
    "CORS(app)\n",
    "@app.route('/tts', methods=['POST'])\n",
    "def post_tts():\n",
    "    def generate():\n",
    "        for frame in iter_all_rows():\n",
    "            yield ','.join(row) + '\\n'\n",
    "    return Response(generate(), mimetype='text/plain')\n",
    "\n",
    "if __name__ == '__main__':\n",
    "    app.run(host='0.0.0.0', port=5900,debug=False)"
   ]
  },
  {
   "cell_type": "code",
   "execution_count": 1,
   "id": "material-celebrity",
   "metadata": {
    "collapsed": true
   },
   "outputs": [
    {
     "name": "stderr",
     "output_type": "stream",
     "text": [
      "/home/sa47/.conda/envs/py36/lib/python3.6/site-packages/tensorflow/python/framework/dtypes.py:523: FutureWarning: Passing (type, 1) or '1type' as a synonym of type is deprecated; in a future version of numpy, it will be understood as (type, (1,)) / '(1,)type'.\n",
      "  _np_qint8 = np.dtype([(\"qint8\", np.int8, 1)])\n",
      "/home/sa47/.conda/envs/py36/lib/python3.6/site-packages/tensorflow/python/framework/dtypes.py:524: FutureWarning: Passing (type, 1) or '1type' as a synonym of type is deprecated; in a future version of numpy, it will be understood as (type, (1,)) / '(1,)type'.\n",
      "  _np_quint8 = np.dtype([(\"quint8\", np.uint8, 1)])\n",
      "/home/sa47/.conda/envs/py36/lib/python3.6/site-packages/tensorflow/python/framework/dtypes.py:525: FutureWarning: Passing (type, 1) or '1type' as a synonym of type is deprecated; in a future version of numpy, it will be understood as (type, (1,)) / '(1,)type'.\n",
      "  _np_qint16 = np.dtype([(\"qint16\", np.int16, 1)])\n",
      "/home/sa47/.conda/envs/py36/lib/python3.6/site-packages/tensorflow/python/framework/dtypes.py:526: FutureWarning: Passing (type, 1) or '1type' as a synonym of type is deprecated; in a future version of numpy, it will be understood as (type, (1,)) / '(1,)type'.\n",
      "  _np_quint16 = np.dtype([(\"quint16\", np.uint16, 1)])\n",
      "/home/sa47/.conda/envs/py36/lib/python3.6/site-packages/tensorflow/python/framework/dtypes.py:527: FutureWarning: Passing (type, 1) or '1type' as a synonym of type is deprecated; in a future version of numpy, it will be understood as (type, (1,)) / '(1,)type'.\n",
      "  _np_qint32 = np.dtype([(\"qint32\", np.int32, 1)])\n",
      "/home/sa47/.conda/envs/py36/lib/python3.6/site-packages/tensorflow/python/framework/dtypes.py:532: FutureWarning: Passing (type, 1) or '1type' as a synonym of type is deprecated; in a future version of numpy, it will be understood as (type, (1,)) / '(1,)type'.\n",
      "  np_resource = np.dtype([(\"resource\", np.ubyte, 1)])\n"
     ]
    }
   ],
   "source": [
    "from lipsyn import LipSyner"
   ]
  },
  {
   "cell_type": "code",
   "execution_count": 2,
   "id": "direct-apparel",
   "metadata": {},
   "outputs": [
    {
     "name": "stdout",
     "output_type": "stream",
     "text": [
      "Reading video frames...\n",
      "Number of frames available for inference: 6354\n"
     ]
    },
    {
     "name": "stderr",
     "output_type": "stream",
     "text": [
      "  0%|          | 0/795 [00:00<?, ?it/s]\n",
      "  0%|          | 0/1589 [00:00<?, ?it/s]"
     ]
    },
    {
     "name": "stdout",
     "output_type": "stream",
     "text": [
      "Recovering from OOM error; New batch size: 4\n"
     ]
    },
    {
     "name": "stderr",
     "output_type": "stream",
     "text": [
      "100%|██████████| 1589/1589 [07:33<00:00,  3.50it/s]\n"
     ]
    },
    {
     "name": "stdout",
     "output_type": "stream",
     "text": [
      "Load checkpoint from: checkpoints/wav2lip_gan.pth\n"
     ]
    }
   ],
   "source": [
    "model = LipSyner('checkpoints/wav2lip_gan.pth','data/v.mp4')"
   ]
  },
  {
   "cell_type": "code",
   "execution_count": 3,
   "id": "ethical-planet",
   "metadata": {},
   "outputs": [],
   "source": [
    "chunks = model.predict('data/file.wav',0)"
   ]
  },
  {
   "cell_type": "code",
   "execution_count": 4,
   "id": "failing-samoa",
   "metadata": {},
   "outputs": [
    {
     "name": "stdout",
     "output_type": "stream",
     "text": [
      "0.7302923202514648\n"
     ]
    }
   ],
   "source": [
    "import time\n",
    "start = time.time()\n",
    "a = list(chunks)\n",
    "print(time.time() - start)"
   ]
  },
  {
   "cell_type": "code",
   "execution_count": 6,
   "id": "nasty-symbol",
   "metadata": {},
   "outputs": [],
   "source": [
    "import pickle\n",
    "pickle.dump(model.face_det_results,open('face_det_results.pkl','wb'))"
   ]
  },
  {
   "cell_type": "code",
   "execution_count": 9,
   "id": "improved-colony",
   "metadata": {},
   "outputs": [
    {
     "data": {
      "text/plain": [
       "6354"
      ]
     },
     "execution_count": 9,
     "metadata": {},
     "output_type": "execute_result"
    }
   ],
   "source": [
    "len(model.face_det_results)"
   ]
  },
  {
   "cell_type": "code",
   "execution_count": null,
   "id": "accessible-honolulu",
   "metadata": {},
   "outputs": [],
   "source": [
    "i = 0\n",
    "for chunk in chunks:\n",
    "    \n",
    "    byte_frames = chunk.split(b'endofframe')\n",
    "    \n",
    "    for frame in byte_frames[:-1]:\n",
    "        i += 1\n",
    "        with open('imgs/' + str(i) + '.jpeg','wb') as f:\n",
    "            f.write(frame)\n",
    "    if i > 30:\n",
    "        break"
   ]
  },
  {
   "cell_type": "code",
   "execution_count": null,
   "id": "continuous-fitness",
   "metadata": {},
   "outputs": [],
   "source": [
    "import pickle\n",
    "pickle.dump(model.face_det_results,open('face_det_results.pkl','wb'))"
   ]
  },
  {
   "cell_type": "code",
   "execution_count": null,
   "id": "pressing-beaver",
   "metadata": {},
   "outputs": [],
   "source": [
    "from lipsyn import LipSyner\n",
    "from flask import Response\n",
    "from flask import Flask\n",
    "from flask import request\n",
    "from flask_cors import CORS, cross_origin\n",
    "import cv2\n",
    "\n",
    "app = Flask(__name__)\n",
    "\n",
    "model = LipSyner('checkpoints/wav2lip_gan.pth','data/input_vid.mp4','face_det_results.pkl')\n",
    "\n",
    "CORS(app)\n",
    "@app.route('/lip', methods=['POST'])\n",
    "def post_lip():\n",
    "    audio_path   = request.json['audio_path']\n",
    "    start_index  = request.json['start_index']\n",
    "    def generate_frame():\n",
    "        frame_batch = []\n",
    "        for frame in model.predict(audio_path,start_index):\n",
    "            frame_batch.append(cv2.imencode('.jpg',frame)[1].tostring())\n",
    "            if len(frame_batch) > 10:\n",
    "                yield b'endofframe'.join(frame_batch)\n",
    "                frame_batch = []\n",
    "    \n",
    "    return Response(generate_frame(),content_type = 'application/octet-stream')\n",
    "\n",
    "if __name__ == '__main__':\n",
    "    app.run(host='0.0.0.0', port=5800,debug=False)"
   ]
  },
  {
   "cell_type": "code",
   "execution_count": null,
   "id": "scheduled-terror",
   "metadata": {},
   "outputs": [],
   "source": []
  },
  {
   "cell_type": "code",
   "execution_count": 7,
   "id": "organic-checkout",
   "metadata": {},
   "outputs": [
    {
     "name": "stdout",
     "output_type": "stream",
     "text": [
      "38.132712602615356\n"
     ]
    }
   ],
   "source": [
    "import cv2\n",
    "import time\n",
    "start = time.time()\n",
    "all_frames = []\n",
    "cap = cv2.VideoCapture('data/v.mp4')\n",
    "while cap.isOpened():\n",
    "    ret,frame = cap.read()\n",
    "    if not ret:\n",
    "        break\n",
    "    frame = cv2.imencode('.jpg',frame)[1].tostring()\n",
    "    all_frames.append(frame)\n",
    "print(time.time() - start)"
   ]
  },
  {
   "cell_type": "code",
   "execution_count": 8,
   "id": "numerical-charge",
   "metadata": {},
   "outputs": [
    {
     "data": {
      "text/plain": [
       "6354"
      ]
     },
     "execution_count": 8,
     "metadata": {},
     "output_type": "execute_result"
    }
   ],
   "source": [
    "len(all_frames)"
   ]
  },
  {
   "cell_type": "code",
   "execution_count": 10,
   "id": "differential-implementation",
   "metadata": {},
   "outputs": [
    {
     "data": {
      "text/plain": [
       "264.75"
      ]
     },
     "execution_count": 10,
     "metadata": {},
     "output_type": "execute_result"
    }
   ],
   "source": [
    "6354 / 24"
   ]
  },
  {
   "cell_type": "code",
   "execution_count": 11,
   "id": "emotional-foster",
   "metadata": {},
   "outputs": [
    {
     "data": {
      "text/plain": [
       "265"
      ]
     },
     "execution_count": 11,
     "metadata": {},
     "output_type": "execute_result"
    }
   ],
   "source": [
    "from threading import Thread\n",
    "import time\n",
    "\n",
    "def updating_frame(threadname):\n",
    "    global a\n",
    "    a += 1\n",
    "\n",
    "thread = Thread(target=updating_frame, args=(\"update\", ))"
   ]
  }
 ],
 "metadata": {
  "kernelspec": {
   "display_name": "py_36_env",
   "language": "python",
   "name": "py_36_env"
  },
  "language_info": {
   "codemirror_mode": {
    "name": "ipython",
    "version": 3
   },
   "file_extension": ".py",
   "mimetype": "text/x-python",
   "name": "python",
   "nbconvert_exporter": "python",
   "pygments_lexer": "ipython3",
   "version": "3.6.12"
  }
 },
 "nbformat": 4,
 "nbformat_minor": 5
}
