{
 "cells": [
  {
   "cell_type": "code",
   "execution_count": 1,
   "id": "cardiac-biotechnology",
   "metadata": {},
   "outputs": [
    {
     "name": "stderr",
     "output_type": "stream",
     "text": [
      "/home/sa47/.conda/envs/py36/lib/python3.6/site-packages/tensorflow/python/framework/dtypes.py:523: FutureWarning: Passing (type, 1) or '1type' as a synonym of type is deprecated; in a future version of numpy, it will be understood as (type, (1,)) / '(1,)type'.\n",
      "  _np_qint8 = np.dtype([(\"qint8\", np.int8, 1)])\n",
      "/home/sa47/.conda/envs/py36/lib/python3.6/site-packages/tensorflow/python/framework/dtypes.py:524: FutureWarning: Passing (type, 1) or '1type' as a synonym of type is deprecated; in a future version of numpy, it will be understood as (type, (1,)) / '(1,)type'.\n",
      "  _np_quint8 = np.dtype([(\"quint8\", np.uint8, 1)])\n",
      "/home/sa47/.conda/envs/py36/lib/python3.6/site-packages/tensorflow/python/framework/dtypes.py:525: FutureWarning: Passing (type, 1) or '1type' as a synonym of type is deprecated; in a future version of numpy, it will be understood as (type, (1,)) / '(1,)type'.\n",
      "  _np_qint16 = np.dtype([(\"qint16\", np.int16, 1)])\n",
      "/home/sa47/.conda/envs/py36/lib/python3.6/site-packages/tensorflow/python/framework/dtypes.py:526: FutureWarning: Passing (type, 1) or '1type' as a synonym of type is deprecated; in a future version of numpy, it will be understood as (type, (1,)) / '(1,)type'.\n",
      "  _np_quint16 = np.dtype([(\"quint16\", np.uint16, 1)])\n",
      "/home/sa47/.conda/envs/py36/lib/python3.6/site-packages/tensorflow/python/framework/dtypes.py:527: FutureWarning: Passing (type, 1) or '1type' as a synonym of type is deprecated; in a future version of numpy, it will be understood as (type, (1,)) / '(1,)type'.\n",
      "  _np_qint32 = np.dtype([(\"qint32\", np.int32, 1)])\n",
      "/home/sa47/.conda/envs/py36/lib/python3.6/site-packages/tensorflow/python/framework/dtypes.py:532: FutureWarning: Passing (type, 1) or '1type' as a synonym of type is deprecated; in a future version of numpy, it will be understood as (type, (1,)) / '(1,)type'.\n",
      "  np_resource = np.dtype([(\"resource\", np.ubyte, 1)])\n"
     ]
    },
    {
     "name": "stdout",
     "output_type": "stream",
     "text": [
      "Using cuda for inference.\n"
     ]
    }
   ],
   "source": [
    "from os import listdir, path\n",
    "import numpy as np\n",
    "import scipy, cv2, os, sys, argparse, audio\n",
    "import json, subprocess, random, string\n",
    "from tqdm import tqdm\n",
    "from glob import glob\n",
    "import torch, face_detection\n",
    "from models import Wav2Lip\n",
    "import platform\n",
    "import time\n",
    "import sys\n",
    "\n",
    "sys.argv = sys.argv[:1]\n",
    "sys.argv += ['--checkpoint_path','checkpoints/wav2lip_gan.pth','--face','data/1min.mp4','--audio','data/long.wav']\n",
    "\n",
    "parser = argparse.ArgumentParser(description='Inference code to lip-sync videos in the wild using Wav2Lip models')\n",
    "\n",
    "parser.add_argument('--checkpoint_path', type=str, \n",
    "                    help='Name of saved checkpoint to load weights from', required=True)\n",
    "\n",
    "parser.add_argument('--face', type=str, \n",
    "                    help='Filepath of video/image that contains faces to use', required=True)\n",
    "parser.add_argument('--audio', type=str, \n",
    "                    help='Filepath of video/audio file to use as raw audio source', required=True)\n",
    "parser.add_argument('--outfile', type=str, help='Video path to save result. See default for an e.g.', \n",
    "                                default='results/result_voice.mp4')\n",
    "\n",
    "parser.add_argument('--static', type=bool, \n",
    "                    help='If True, then use only first video frame for inference', default=False)\n",
    "parser.add_argument('--fps', type=float, help='Can be specified only if input is a static image (default: 25)', \n",
    "                    default=25., required=False)\n",
    "\n",
    "parser.add_argument('--pads', nargs='+', type=int, default=[0, 10, 0, 0], \n",
    "                    help='Padding (top, bottom, left, right). Please adjust to include chin at least')\n",
    "\n",
    "parser.add_argument('--face_det_batch_size', type=int, \n",
    "                    help='Batch size for face detection', default=8)\n",
    "parser.add_argument('--wav2lip_batch_size', type=int, help='Batch size for Wav2Lip model(s)', default=512)\n",
    "\n",
    "parser.add_argument('--resize_factor', default=1, type=int, \n",
    "                    help='Reduce the resolution by this factor. Sometimes, best results are obtained at 480p or 720p')\n",
    "\n",
    "parser.add_argument('--crop', nargs='+', type=int, default=[0, -1, 0, -1], \n",
    "                    help='Crop video to a smaller region (top, bottom, left, right). Applied after resize_factor and rotate arg. ' \n",
    "                    'Useful if multiple face present. -1 implies the value will be auto-inferred based on height, width')\n",
    "\n",
    "parser.add_argument('--box', nargs='+', type=int, default=[-1, -1, -1, -1], \n",
    "                    help='Specify a constant bounding box for the face. Use only as a last resort if the face is not detected.'\n",
    "                    'Also, might work only if the face is not moving around much. Syntax: (top, bottom, left, right).')\n",
    "\n",
    "parser.add_argument('--rotate', default=False, action='store_true',\n",
    "                    help='Sometimes videos taken from a phone can be flipped 90deg. If true, will flip video right by 90deg.'\n",
    "                    'Use if you get a flipped result, despite feeding a normal looking video')\n",
    "\n",
    "parser.add_argument('--nosmooth', default=False, action='store_true',\n",
    "                    help='Prevent smoothing face detections over a short temporal window')\n",
    "\n",
    "args = parser.parse_args()\n",
    "args.img_size = 96\n",
    "\n",
    "if os.path.isfile(args.face) and args.face.split('.')[1] in ['jpg', 'png', 'jpeg']:\n",
    "    args.static = True\n",
    "\n",
    "def get_smoothened_boxes(boxes, T):\n",
    "    for i in range(len(boxes)):\n",
    "        if i + T > len(boxes):\n",
    "            window = boxes[len(boxes) - T:]\n",
    "        else:\n",
    "            window = boxes[i : i + T]\n",
    "        boxes[i] = np.mean(window, axis=0)\n",
    "    return boxes\n",
    "\n",
    "def face_detect(images):\n",
    "    detector = face_detection.FaceAlignment(face_detection.LandmarksType._2D, \n",
    "                                            flip_input=False, device=device)\n",
    "\n",
    "    batch_size = args.face_det_batch_size\n",
    "    \n",
    "    while 1:\n",
    "        predictions = []\n",
    "        try:\n",
    "            for i in tqdm(range(0, len(images), batch_size)):\n",
    "                predictions.extend(detector.get_detections_for_batch(np.array(images[i:i + batch_size])))\n",
    "        except RuntimeError:\n",
    "            if batch_size == 1: \n",
    "                raise RuntimeError('Image too big to run face detection on GPU. Please use the --resize_factor argument')\n",
    "            batch_size //= 2\n",
    "            print('Recovering from OOM error; New batch size: {}'.format(batch_size))\n",
    "            continue\n",
    "        break\n",
    "\n",
    "    results = []\n",
    "    pady1, pady2, padx1, padx2 = args.pads\n",
    "    for rect, image in zip(predictions, images):\n",
    "        if rect is None:\n",
    "            cv2.imwrite('temp/faulty_frame.jpg', image) # check this frame where the face was not detected.\n",
    "            raise ValueError('Face not detected! Ensure the video contains a face in all the frames.')\n",
    "\n",
    "        y1 = max(0, rect[1] - pady1)\n",
    "        y2 = min(image.shape[0], rect[3] + pady2)\n",
    "        x1 = max(0, rect[0] - padx1)\n",
    "        x2 = min(image.shape[1], rect[2] + padx2)\n",
    "        \n",
    "        results.append([x1, y1, x2, y2])\n",
    "\n",
    "    boxes = np.array(results)\n",
    "    if not args.nosmooth: boxes = get_smoothened_boxes(boxes, T=5)\n",
    "    results = [[image[y1: y2, x1:x2], (y1, y2, x1, x2)] for image, (x1, y1, x2, y2) in zip(images, boxes)]\n",
    "\n",
    "    del detector\n",
    "    return results\n",
    "\n",
    "def datagen(frames, mels, face_results, batch_size = 128):\n",
    "    img_batch, mel_batch, frame_batch, coords_batch = [], [], [], []\n",
    "    face_det_results = face_results\n",
    "    \n",
    "    for i, m in enumerate(mels):\n",
    "        idx = 0 if args.static else i%len(frames)\n",
    "        frame_to_save = frames[idx].copy()\n",
    "        face, coords = face_det_results[idx].copy()\n",
    "        \n",
    "        face = cv2.resize(face, (args.img_size, args.img_size))\n",
    "        \n",
    "        img_batch.append(face)\n",
    "        mel_batch.append(m)\n",
    "        frame_batch.append(frame_to_save)\n",
    "        coords_batch.append(coords)\n",
    "        \n",
    "        if len(img_batch) >= batch_size:\n",
    "            img_batch, mel_batch = np.asarray(img_batch), np.asarray(mel_batch)\n",
    "\n",
    "            img_masked = img_batch.copy()\n",
    "            img_masked[:, args.img_size//2:] = 0\n",
    "\n",
    "            img_batch = np.concatenate((img_masked, img_batch), axis=3) / 255.\n",
    "            mel_batch = np.reshape(mel_batch, [len(mel_batch), mel_batch.shape[1], mel_batch.shape[2], 1])\n",
    "            yield img_batch, mel_batch, frame_batch, coords_batch\n",
    "            img_batch, mel_batch, frame_batch, coords_batch = [], [], [], []\n",
    "\n",
    "    if len(img_batch) > 0:\n",
    "        img_batch, mel_batch = np.asarray(img_batch), np.asarray(mel_batch)\n",
    "\n",
    "        img_masked = img_batch.copy()\n",
    "        img_masked[:, args.img_size//2:] = 0\n",
    "\n",
    "        img_batch = np.concatenate((img_masked, img_batch), axis=3) / 255.\n",
    "        mel_batch = np.reshape(mel_batch, [len(mel_batch), mel_batch.shape[1], mel_batch.shape[2], 1])\n",
    "\n",
    "        yield img_batch, mel_batch, frame_batch, coords_batch\n",
    "    \n",
    "    \n",
    "def datagen_parallel(data_chunk):\n",
    "    frames, mels, face_results = data_chunk\n",
    "    \n",
    "    img_batch, mel_batch, frame_batch, coords_batch = [], [], [], []\n",
    "    face_det_results = face_results\n",
    "    \n",
    "    for i, m in enumerate(mels):\n",
    "        idx = 0 if args.static else i%len(frames)\n",
    "        frame_to_save = frames[idx].copy()\n",
    "        face, coords = face_det_results[idx].copy()\n",
    "\n",
    "        face = cv2.resize(face, (args.img_size, args.img_size))\n",
    "            \n",
    "        img_batch.append(face)\n",
    "        mel_batch.append(m)\n",
    "        frame_batch.append(frame_to_save)\n",
    "        coords_batch.append(coords)\n",
    "\n",
    "    img_batch, mel_batch = np.asarray(img_batch), np.asarray(mel_batch)\n",
    "    img_masked = img_batch.copy()\n",
    "    img_masked[:, args.img_size//2:] = 0\n",
    "    img_batch = np.concatenate((img_masked, img_batch), axis=3) / 255.\n",
    "    mel_batch = np.reshape(mel_batch, [len(mel_batch), mel_batch.shape[1], mel_batch.shape[2], 1])\n",
    "\n",
    "    return img_batch, mel_batch, frame_batch, coords_batch\n",
    "\n",
    "mel_step_size = 16\n",
    "device = 'cuda' if torch.cuda.is_available() else 'cpu'\n",
    "print('Using {} for inference.'.format(device))\n",
    "\n",
    "def _load(checkpoint_path):\n",
    "    if device == 'cuda':\n",
    "        checkpoint = torch.load(checkpoint_path)\n",
    "    else:\n",
    "        checkpoint = torch.load(checkpoint_path,\n",
    "                                map_location=lambda storage, loc: storage)\n",
    "    return checkpoint\n",
    "\n",
    "def load_model(path):\n",
    "    model = Wav2Lip()\n",
    "    print(\"Load checkpoint from: {}\".format(path))\n",
    "    checkpoint = _load(path)\n",
    "    s = checkpoint[\"state_dict\"]\n",
    "    new_s = {}\n",
    "    for k, v in s.items():\n",
    "        new_s[k.replace('module.', '')] = v\n",
    "    model.load_state_dict(new_s)\n",
    "\n",
    "    model = model.to(device)\n",
    "    return model.eval()"
   ]
  },
  {
   "cell_type": "code",
   "execution_count": 2,
   "id": "swiss-graham",
   "metadata": {},
   "outputs": [
    {
     "name": "stdout",
     "output_type": "stream",
     "text": [
      "Reading video frames...\n",
      "Number of frames available for inference: 2158\n"
     ]
    },
    {
     "name": "stderr",
     "output_type": "stream",
     "text": [
      "  0%|          | 0/270 [00:00<?, ?it/s]\n",
      "  0%|          | 0/540 [00:00<?, ?it/s]"
     ]
    },
    {
     "name": "stdout",
     "output_type": "stream",
     "text": [
      "Recovering from OOM error; New batch size: 4\n"
     ]
    },
    {
     "name": "stderr",
     "output_type": "stream",
     "text": [
      "100%|██████████| 540/540 [02:36<00:00,  3.45it/s]\n"
     ]
    }
   ],
   "source": [
    "if not os.path.isfile(args.face):\n",
    "    raise ValueError('--face argument must be a valid path to video/image file')\n",
    "\n",
    "elif args.face.split('.')[1] in ['jpg', 'png', 'jpeg']:\n",
    "    full_frames = [cv2.imread(args.face)]\n",
    "    fps = args.fps\n",
    "\n",
    "else:\n",
    "    video_stream = cv2.VideoCapture(args.face)\n",
    "    fps = video_stream.get(cv2.CAP_PROP_FPS)\n",
    "\n",
    "    print('Reading video frames...')\n",
    "\n",
    "    full_frames = []\n",
    "    while 1:\n",
    "        still_reading, frame = video_stream.read()\n",
    "        if not still_reading:\n",
    "            video_stream.release()\n",
    "            break\n",
    "        if args.resize_factor > 1:\n",
    "            frame = cv2.resize(frame, (frame.shape[1]//args.resize_factor, frame.shape[0]//args.resize_factor))\n",
    "\n",
    "        if args.rotate:\n",
    "            frame = cv2.rotate(frame, cv2.cv2.ROTATE_90_CLOCKWISE)\n",
    "\n",
    "        y1, y2, x1, x2 = args.crop\n",
    "        if x2 == -1: x2 = frame.shape[1]\n",
    "        if y2 == -1: y2 = frame.shape[0]\n",
    "\n",
    "        frame = frame[y1:y2, x1:x2]\n",
    "\n",
    "        full_frames.append(frame)\n",
    "\n",
    "print (\"Number of frames available for inference: \"+str(len(full_frames)))\n",
    "\n",
    "if args.box[0] == -1:\n",
    "    if not args.static:\n",
    "        face_det_results = face_detect(full_frames.copy()) # BGR2RGB for CNN face detection\n",
    "    else:\n",
    "        face_det_results = face_detect([full_frames.copy()[0]])\n",
    "else:\n",
    "    y1, y2, x1, x2 = args.box\n",
    "    face_det_results = [[f[y1: y2, x1:x2], (y1, y2, x1, x2)] for f in frames]"
   ]
  },
  {
   "cell_type": "code",
   "execution_count": 3,
   "id": "brilliant-bulgaria",
   "metadata": {},
   "outputs": [
    {
     "name": "stdout",
     "output_type": "stream",
     "text": [
      "Load checkpoint from: checkpoints/wav2lip_gan.pth\n"
     ]
    }
   ],
   "source": [
    "args.checkpoint_path = 'checkpoints/wav2lip_gan.pth'\n",
    "model = load_model(args.checkpoint_path)"
   ]
  },
  {
   "cell_type": "code",
   "execution_count": 4,
   "id": "legendary-antenna",
   "metadata": {},
   "outputs": [],
   "source": [
    "#args.audio = 'data/input_audio.mp3'\n",
    "args.audio = 'data/long.wav'"
   ]
  },
  {
   "cell_type": "code",
   "execution_count": 5,
   "id": "norman-contributor",
   "metadata": {},
   "outputs": [
    {
     "data": {
      "text/plain": [
       "2158"
      ]
     },
     "execution_count": 5,
     "metadata": {},
     "output_type": "execute_result"
    }
   ],
   "source": [
    "len(full_frames)"
   ]
  },
  {
   "cell_type": "code",
   "execution_count": 6,
   "id": "demographic-basement",
   "metadata": {},
   "outputs": [
    {
     "name": "stdout",
     "output_type": "stream",
     "text": [
      "0.12066793441772461\n",
      "0.006732940673828125\n",
      "Length of mel chunks: 2395\n"
     ]
    }
   ],
   "source": [
    "start = time.time()\n",
    "# # if not args.audio.endswith('.wav'):\n",
    "# print('Extracting raw audio...')\n",
    "# command = 'ffmpeg -y -i {} -strict -2 {}'.format(args.audio, 'temp/temp.wav')\n",
    "# subprocess.call(command, shell=True)\n",
    "# print(time.time() - start)\n",
    "# start = time.time()\n",
    "# args.audio = 'temp/temp.wav'\n",
    "wav = audio.load_wav(args.audio, 16000)\n",
    "mel = audio.melspectrogram(wav)\n",
    "print(time.time() - start)\n",
    "start = time.time()\n",
    "\n",
    "mel_chunks = []\n",
    "mel_idx_multiplier = 80./fps \n",
    "i = 0\n",
    "while 1:\n",
    "    start_idx = int(i * mel_idx_multiplier)\n",
    "    if start_idx + mel_step_size > len(mel[0]):\n",
    "        mel_chunks.append(mel[:, len(mel[0]) - mel_step_size:])\n",
    "        break\n",
    "    mel_chunks.append(mel[:, start_idx : start_idx + mel_step_size])\n",
    "    i += 1\n",
    "\n",
    "print(time.time() - start)\n",
    "print(\"Length of mel chunks: {}\".format(len(mel_chunks)))\n",
    "\n",
    "MAX_FRAME = min(len(mel_chunks), len(full_frames))\n",
    "\n",
    "start = time.time()\n",
    "select_frames = full_frames[:MAX_FRAME].copy()\n",
    "select_face_results = face_det_results[:MAX_FRAME].copy()\n",
    "\n",
    "mel_chunks = mel_chunks[:MAX_FRAME]"
   ]
  },
  {
   "cell_type": "code",
   "execution_count": 7,
   "id": "short-specific",
   "metadata": {},
   "outputs": [
    {
     "data": {
      "text/plain": [
       "2158"
      ]
     },
     "execution_count": 7,
     "metadata": {},
     "output_type": "execute_result"
    }
   ],
   "source": [
    "len(mel_chunks)"
   ]
  },
  {
   "cell_type": "code",
   "execution_count": 8,
   "id": "lovely-gallery",
   "metadata": {},
   "outputs": [
    {
     "name": "stdout",
     "output_type": "stream",
     "text": [
      "Gen: 2.1823174953460693\n",
      "0.7905793190002441\n",
      "0.7980532646179199\n",
      "0.8929417133331299\n",
      "0.9000263214111328\n",
      "0.9925119876861572\n",
      "0.9997549057006836\n",
      "1.092132329940796\n",
      "1.0996448993682861\n",
      "1.1917393207550049\n",
      "1.1993117332458496\n",
      "1.2915191650390625\n",
      "1.2986290454864502\n",
      "1.391007900238037\n",
      "1.398115634918213\n",
      "1.4901542663574219\n",
      "1.49764084815979\n",
      "1.5892763137817383\n",
      "1.5968196392059326\n",
      "1.688359022140503\n",
      "1.6959052085876465\n",
      "1.7882928848266602\n",
      "1.7955622673034668\n",
      "1.8869554996490479\n",
      "1.893995761871338\n",
      "1.9857127666473389\n",
      "1.9928898811340332\n",
      "2.0864803791046143\n",
      "2.0936059951782227\n",
      "2.1875345706939697\n",
      "2.1946606636047363\n",
      "2.2879467010498047\n",
      "2.2951958179473877\n",
      "2.3886430263519287\n",
      "2.396155834197998\n",
      "2.4887490272521973\n",
      "2.49595046043396\n",
      "2.5885658264160156\n",
      "2.5957703590393066\n",
      "2.688366651535034\n",
      "2.6955318450927734\n",
      "2.7879130840301514\n",
      "2.795130491256714\n",
      "2.8877625465393066\n",
      "2.89536190032959\n",
      "2.9873781204223633\n",
      "2.994703531265259\n",
      "3.0858800411224365\n",
      "3.0931899547576904\n",
      "3.185431480407715\n",
      "3.192714214324951\n",
      "3.285151481628418\n",
      "3.292250871658325\n",
      "3.383772850036621\n",
      "3.391556739807129\n",
      "3.484353542327881\n",
      "3.4917056560516357\n",
      "3.5851986408233643\n",
      "3.5923728942871094\n",
      "3.685946226119995\n",
      "3.6930460929870605\n",
      "3.7866270542144775\n",
      "3.7939558029174805\n",
      "3.887624740600586\n",
      "3.894937515258789\n",
      "3.9889495372772217\n",
      "3.996173620223999\n",
      "4.090145826339722\n",
      "4.097326755523682\n",
      "4.190832853317261\n",
      "4.197759628295898\n",
      "4.291513919830322\n",
      "4.2987446784973145\n",
      "4.391941547393799\n",
      "4.398958921432495\n",
      "4.491453409194946\n",
      "4.498952150344849\n",
      "4.591298580169678\n",
      "4.598454236984253\n",
      "4.6911773681640625\n",
      "4.6982502937316895\n",
      "4.790734529495239\n",
      "4.797736406326294\n",
      "4.889448165893555\n",
      "4.896466255187988\n",
      "4.988605260848999\n",
      "4.996191740036011\n",
      "5.088730335235596\n",
      "5.095766305923462\n",
      "5.1888298988342285\n",
      "5.1960625648498535\n",
      "5.288964033126831\n",
      "5.296211004257202\n",
      "5.389208078384399\n",
      "5.396432399749756\n",
      "5.489879608154297\n",
      "5.497485876083374\n",
      "5.591503858566284\n",
      "5.598696231842041\n",
      "5.692731142044067\n",
      "5.700273036956787\n",
      "5.793883562088013\n",
      "5.801076173782349\n",
      "5.895258188247681\n",
      "5.9029011726379395\n",
      "5.996869087219238\n",
      "6.004094839096069\n",
      "6.097051620483398\n",
      "6.104712724685669\n",
      "6.197552442550659\n",
      "6.2050559520721436\n",
      "6.29926061630249\n",
      "6.306841611862183\n",
      "6.40117621421814\n",
      "6.4082677364349365\n",
      "6.502133131027222\n",
      "6.509742259979248\n",
      "6.602190256118774\n",
      "6.609105587005615\n",
      "6.7026588916778564\n",
      "6.709507942199707\n",
      "6.8038647174835205\n",
      "6.81097412109375\n",
      "6.905287504196167\n",
      "6.912436485290527\n",
      "7.006436586380005\n",
      "7.013713359832764\n",
      "7.107841968536377\n",
      "7.115474462509155\n",
      "7.209728956222534\n",
      "7.217121124267578\n",
      "7.311062812805176\n",
      "7.318448305130005\n",
      "7.411868095397949\n",
      "7.419305086135864\n",
      "7.91801118850708\n",
      "7.921527147293091\n"
     ]
    }
   ],
   "source": [
    "start = time.time()\n",
    "\n",
    "gen = list(datagen(select_frames, mel_chunks, select_face_results, 32))\n",
    "\n",
    "print(\"Gen:\", time.time() - start)\n",
    "\n",
    "final_frames = []\n",
    "\n",
    "start = time.time()\n",
    "for i, (img_batch, mel_batch, frames, coords) in enumerate(gen):\n",
    "    \n",
    "    img_batch = torch.FloatTensor(np.transpose(img_batch, (0, 3, 1, 2))).to(device)\n",
    "    mel_batch = torch.FloatTensor(np.transpose(mel_batch, (0, 3, 1, 2))).to(device)\n",
    "    \n",
    "    with torch.no_grad():\n",
    "        pred = model(mel_batch, img_batch)\n",
    "    \n",
    "    pred = pred.cpu().numpy().transpose(0, 2, 3, 1) * 255.\n",
    "\n",
    "    print(time.time() - start)\n",
    "    \n",
    "    for p, f, c in zip(pred, frames, coords):\n",
    "        y1, y2, x1, x2 = c\n",
    "        p = cv2.resize(p.astype(np.uint8), (x2 - x1, y2 - y1))\n",
    "        f[y1:y2, x1:x2] = p\n",
    "        final_frames.append(f)\n",
    "    print(time.time() - start)"
   ]
  },
  {
   "cell_type": "code",
   "execution_count": 9,
   "id": "equivalent-conviction",
   "metadata": {},
   "outputs": [],
   "source": [
    "frame_h, frame_w = select_frames[0].shape[:-1]\n",
    "out = cv2.VideoWriter('temp/result.avi', cv2.VideoWriter_fourcc(*'DIVX'), fps, (frame_w, frame_h))\n",
    "for f in final_frames:\n",
    "    out.write(f)\n",
    "out.release()\n",
    "# command = 'ffmpeg -y -i {} -i {} -strict -2 -q:v 1 {}'.format(args.audio, 'temp/result.avi', args.outfile)\n",
    "# subprocess.call(command, shell=platform.system() != 'Windows')\n",
    "# print(\"combine video & audio: \", time.time() - start)\n",
    "# print(time.time() - start)"
   ]
  },
  {
   "cell_type": "code",
   "execution_count": null,
   "id": "public-covering",
   "metadata": {},
   "outputs": [],
   "source": [
    "import requests, time\n",
    "start = time.time()\n",
    "response = requests.post('http://54.179.106.170:5800/test', json = {\"context\": \"haha\\nhaha\"})\n",
    "print(time.time() - start)"
   ]
  },
  {
   "cell_type": "code",
   "execution_count": null,
   "id": "meaningful-islam",
   "metadata": {},
   "outputs": [],
   "source": [
    "response.content"
   ]
  },
  {
   "cell_type": "code",
   "execution_count": null,
   "id": "atmospheric-worcester",
   "metadata": {},
   "outputs": [],
   "source": [
    "from flask import Response\n",
    "from __future__ import absolute_import, division, print_function\n",
    "from flask import Flask\n",
    "from flask import jsonify\n",
    "from flask import request\n",
    "from flask import send_from_directory\n",
    "\n",
    "from flask_cors import CORS, cross_origin\n",
    "from flask import Response\n",
    "\n",
    "app = Flask(__name__)\n",
    "\n",
    "CORS(app)\n",
    "@app.route('/tts', methods=['POST'])\n",
    "def post_tts():\n",
    "    def generate():\n",
    "        for frame in iter_all_rows():\n",
    "            yield ','.join(row) + '\\n'\n",
    "    return Response(generate(), mimetype='text/plain')\n",
    "\n",
    "if __name__ == '__main__':\n",
    "    app.run(host='0.0.0.0', port=5900,debug=False)"
   ]
  },
  {
   "cell_type": "code",
   "execution_count": null,
   "id": "material-celebrity",
   "metadata": {},
   "outputs": [],
   "source": [
    "from lipsyn import LipSyner"
   ]
  },
  {
   "cell_type": "code",
   "execution_count": null,
   "id": "direct-apparel",
   "metadata": {},
   "outputs": [],
   "source": [
    "model = LipSyner('checkpoints/wav2lip_gan.pth','data/1min.mp4')"
   ]
  },
  {
   "cell_type": "code",
   "execution_count": null,
   "id": "ethical-planet",
   "metadata": {},
   "outputs": [],
   "source": [
    "chunks = model.predict('data/input_audio2.wav',0)"
   ]
  },
  {
   "cell_type": "code",
   "execution_count": null,
   "id": "failing-samoa",
   "metadata": {},
   "outputs": [],
   "source": [
    "import time\n",
    "start = time.time()\n",
    "a = list(chunks)\n",
    "print(time.time() - start)"
   ]
  },
  {
   "cell_type": "code",
   "execution_count": null,
   "id": "sticky-president",
   "metadata": {},
   "outputs": [],
   "source": [
    "import time\n",
    "start = time.time()\n",
    "for c in chunks:\n",
    "    print(time.time() - start)\n",
    "    pass"
   ]
  },
  {
   "cell_type": "code",
   "execution_count": null,
   "id": "verbal-mentor",
   "metadata": {},
   "outputs": [],
   "source": [
    "import pickle\n",
    "pickle.dump(model.face_det_results,open('face_det_results_1min.pkl','wb'))"
   ]
  },
  {
   "cell_type": "code",
   "execution_count": null,
   "id": "perceived-jason",
   "metadata": {},
   "outputs": [],
   "source": [
    "import pickle\n",
    "data = pickle.load(open('face_det_results_1min.pkl','rb'))"
   ]
  },
  {
   "cell_type": "code",
   "execution_count": null,
   "id": "pointed-birth",
   "metadata": {},
   "outputs": [],
   "source": [
    "len(data)"
   ]
  },
  {
   "cell_type": "code",
   "execution_count": null,
   "id": "accessible-honolulu",
   "metadata": {},
   "outputs": [],
   "source": [
    "i = 0\n",
    "for chunk in chunks:\n",
    "    \n",
    "    byte_frames = chunk.split(b'endofframe')\n",
    "    \n",
    "    for frame in byte_frames[:-1]:\n",
    "        i += 1\n",
    "        with open('imgs/' + str(i) + '.jpeg','wb') as f:\n",
    "            f.write(frame)\n",
    "    if i > 30:\n",
    "        break"
   ]
  },
  {
   "cell_type": "code",
   "execution_count": null,
   "id": "domestic-circle",
   "metadata": {},
   "outputs": [],
   "source": [
    "import pickle\n",
    "pickle.dump(model.face_det_results,open('face_det_results.pkl','wb'))"
   ]
  },
  {
   "cell_type": "code",
   "execution_count": null,
   "id": "foster-attitude",
   "metadata": {},
   "outputs": [],
   "source": [
    "from lipsyn import LipSyner\n",
    "from flask import Response\n",
    "from flask import Flask\n",
    "from flask import request\n",
    "from flask_cors import CORS, cross_origin\n",
    "import cv2\n",
    "\n",
    "app = Flask(__name__)\n",
    "\n",
    "model = LipSyner('checkpoints/wav2lip_gan.pth','data/input_vid.mp4','face_det_results.pkl')\n",
    "\n",
    "CORS(app)\n",
    "@app.route('/lip', methods=['POST'])\n",
    "def post_lip():\n",
    "    audio_path   = request.json['audio_path']\n",
    "    start_index  = request.json['start_index']\n",
    "    def generate_frame():\n",
    "        frame_batch = []\n",
    "        for frame in model.predict(audio_path,start_index):\n",
    "            frame_batch.append(cv2.imencode('.jpg',frame)[1].tostring())\n",
    "            if len(frame_batch) > 10:\n",
    "                yield b'endofframe'.join(frame_batch)\n",
    "                frame_batch = []\n",
    "    \n",
    "    return Response(generate_frame(),content_type = 'application/octet-stream')\n",
    "\n",
    "if __name__ == '__main__':\n",
    "    app.run(host='0.0.0.0', port=5800,debug=False)"
   ]
  },
  {
   "cell_type": "code",
   "execution_count": null,
   "id": "attached-lexington",
   "metadata": {},
   "outputs": [],
   "source": []
  },
  {
   "cell_type": "code",
   "execution_count": null,
   "id": "little-extension",
   "metadata": {},
   "outputs": [],
   "source": [
    "import cv2\n",
    "import time\n",
    "start = time.time()\n",
    "all_frames = []\n",
    "cap = cv2.VideoCapture('data/v.mp4')\n",
    "while cap.isOpened():\n",
    "    ret,frame = cap.read()\n",
    "    if not ret:\n",
    "        break\n",
    "    frame = cv2.imencode('.jpg',frame)[1].tostring()\n",
    "    all_frames.append(frame)\n",
    "print(time.time() - start)"
   ]
  },
  {
   "cell_type": "code",
   "execution_count": null,
   "id": "finite-orchestra",
   "metadata": {},
   "outputs": [],
   "source": [
    "len(all_frames)"
   ]
  },
  {
   "cell_type": "code",
   "execution_count": null,
   "id": "worst-camping",
   "metadata": {},
   "outputs": [],
   "source": [
    "6354 / 24"
   ]
  },
  {
   "cell_type": "code",
   "execution_count": null,
   "id": "silent-gamma",
   "metadata": {},
   "outputs": [],
   "source": [
    "from threading import Thread\n",
    "import time\n",
    "\n",
    "def updating_frame(threadname):\n",
    "    for i in range(0,5):\n",
    "        time.sleep(1)\n",
    "        print(i)\n",
    "\n",
    "# thread = Thread(target=updating_frame, args=(\"update\", ))\n",
    "# thread.start()"
   ]
  },
  {
   "cell_type": "code",
   "execution_count": null,
   "id": "adjustable-beijing",
   "metadata": {},
   "outputs": [],
   "source": [
    "thread = Thread(target=updating_frame, args=(\"update\", ))\n",
    "thread.start()"
   ]
  },
  {
   "cell_type": "code",
   "execution_count": null,
   "id": "contained-probability",
   "metadata": {},
   "outputs": [],
   "source": [
    "def main_thead():\n",
    "    thread = Thread(target=updating_frame, args=(\"update\", ))\n",
    "    thread.start()\n",
    "    time.sleep(10)\n",
    "    print('done main thread')\n",
    "    \n",
    "main_thead()"
   ]
  },
  {
   "cell_type": "code",
   "execution_count": null,
   "id": "yellow-literacy",
   "metadata": {},
   "outputs": [],
   "source": [
    "thread.join()"
   ]
  },
  {
   "cell_type": "code",
   "execution_count": null,
   "id": "blocked-upper",
   "metadata": {},
   "outputs": [],
   "source": [
    "thread.start()"
   ]
  }
 ],
 "metadata": {
  "kernelspec": {
   "display_name": "py_36_env",
   "language": "python",
   "name": "py_36_env"
  },
  "language_info": {
   "codemirror_mode": {
    "name": "ipython",
    "version": 3
   },
   "file_extension": ".py",
   "mimetype": "text/x-python",
   "name": "python",
   "nbconvert_exporter": "python",
   "pygments_lexer": "ipython3",
   "version": "3.6.12"
  }
 },
 "nbformat": 4,
 "nbformat_minor": 5
}
